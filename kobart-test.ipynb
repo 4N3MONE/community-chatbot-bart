{
 "cells": [
  {
   "cell_type": "code",
   "execution_count": null,
   "metadata": {},
   "outputs": [],
   "source": [
    "!pip install torch==1.7.1+cu110 -f https://download.pytorch.org/whl/torch_stable.html"
   ]
  },
  {
   "cell_type": "code",
   "execution_count": null,
   "metadata": {},
   "outputs": [],
   "source": [
    "!pip install torchtext==0.8.0"
   ]
  },
  {
   "cell_type": "code",
   "execution_count": null,
   "metadata": {},
   "outputs": [],
   "source": [
    "!pip install git+https://github.com/SKT-AI/KoBART#egg=kobart"
   ]
  },
  {
   "cell_type": "code",
   "execution_count": null,
   "metadata": {},
   "outputs": [],
   "source": [
    "!git clone 'https://github.com/4N3MONE/community-chatbot-bart'"
   ]
  },
  {
   "cell_type": "code",
   "execution_count": 6,
   "metadata": {},
   "outputs": [
    {
     "name": "stdout",
     "output_type": "stream",
     "text": [
      "/home/yys/community-chatbot-bart\n"
     ]
    }
   ],
   "source": [
    "cd community-chatbot-bart"
   ]
  },
  {
   "cell_type": "code",
   "execution_count": 12,
   "metadata": {},
   "outputs": [
    {
     "name": "stdout",
     "output_type": "stream",
     "text": [
      "/home/yys/community-chatbot-bart/./kobart_base_tokenizer_cased_cf74400bce.zip[██████████████████████████████████████████████████]\n",
      "/home/yys/community-chatbot-bart/./kobart_base_cased_ff4bda5738.zip[██████████████████████████████████████████████████]\n"
     ]
    },
    {
     "data": {
      "text/plain": [
       "'/home/yys/community-chatbot-bart/./kobart_from_pretrained'"
      ]
     },
     "execution_count": 12,
     "metadata": {},
     "output_type": "execute_result"
    }
   ],
   "source": [
    "from kobart import get_pytorch_kobart_model, get_kobart_tokenizer\n",
    "get_kobart_tokenizer(\".\")\n",
    "get_pytorch_kobart_model(cachedir=\".\")"
   ]
  },
  {
   "attachments": {},
   "cell_type": "markdown",
   "metadata": {},
   "source": [
    "이하 터미널에 입력"
   ]
  },
  {
   "cell_type": "code",
   "execution_count": null,
   "metadata": {},
   "outputs": [],
   "source": [
    "!python kobart_chit_chat.py  --gradient_clip_val 1.0 --max_epochs 1 --default_root_dir logs --model_path kobart_from_pretrained --tokenizer_path emji_tokenizer --train --gpus 1 "
   ]
  },
  {
   "cell_type": "code",
   "execution_count": null,
   "metadata": {},
   "outputs": [],
   "source": [
    "!python kobart_chit_chat.py --gpus 1 --chat"
   ]
  }
 ],
 "metadata": {
  "kernelspec": {
   "display_name": "python38",
   "language": "python",
   "name": "python3"
  },
  "language_info": {
   "codemirror_mode": {
    "name": "ipython",
    "version": 3
   },
   "file_extension": ".py",
   "mimetype": "text/x-python",
   "name": "python",
   "nbconvert_exporter": "python",
   "pygments_lexer": "ipython3",
   "version": "3.8.0 (default, Nov  6 2019, 21:49:08) \n[GCC 7.3.0]"
  },
  "orig_nbformat": 4,
  "vscode": {
   "interpreter": {
    "hash": "94ae13bf294ab8d1fa68e158961b847a5f7b0ed10db0c73f460749037ec2a65c"
   }
  }
 },
 "nbformat": 4,
 "nbformat_minor": 2
}
